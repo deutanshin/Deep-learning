{
 "cells": [
  {
   "cell_type": "markdown",
   "id": "f7d6ac04-f553-4279-8151-87f40dfc522e",
   "metadata": {},
   "source": [
    "# Assignment 1-5: My Own Networks\n",
    "\n",
    "이번 과제에서는 PyTorch를 활용해서 CIFAR-10 데이터셋을 위한 나만의 분류기를 만들어봅니다.  \n",
    "이 과제의 목표는 CIFAR-10 테스트 데이터셋에서 83% (acc 0.830 이상) 의 분류 정확도를 달성하는 것입니다.  \n",
    "이 때, 네트워크의 전체 파라미터는 1,000,000 개를 넘지 않도록 합니다."
   ]
  },
  {
   "cell_type": "code",
   "execution_count": null,
   "id": "8498869c-0dd1-4fdd-a843-fe4c822b3efe",
   "metadata": {},
   "outputs": [],
   "source": [
    "%load_ext autoreload\n",
    "%autoreload 2"
   ]
  },
  {
   "cell_type": "code",
   "execution_count": null,
   "id": "8a56a8f7-1c2c-42ab-aa29-4135ea5678b7",
   "metadata": {},
   "outputs": [],
   "source": [
    "import torch\n",
    "import torchvision\n",
    "import matplotlib.pyplot as plt\n",
    "%matplotlib inline\n",
    "\n",
    "plt.rcParams['figure.figsize'] = (10.0, 8.0)\n",
    "plt.rcParams['font.size'] = 16\n",
    "\n",
    "import utils\n",
    "import my_networks"
   ]
  },
  {
   "cell_type": "code",
   "execution_count": null,
   "id": "988bdd44-3332-4023-a92f-549c553c868f",
   "metadata": {},
   "outputs": [],
   "source": [
    "# 모델의 파라미터 개수가 MAX_PARAMS 을 넘는지 체크합니다.\n",
    "MAX_PARAMS = 1000000\n",
    "\n",
    "def count_params(model):\n",
    "    return sum(p.numel() for p in model.parameters() if p.requires_grad)\n",
    "\n",
    "def check_param_budget(model):\n",
    "    n = count_params(model)\n",
    "    print(f\"# params of the model: {n}\")\n",
    "    assert n <= MAX_PARAMS, f\"Parameter budget exceeded: {n:,} > {MAX_PARAMS:,}\""
   ]
  },
  {
   "cell_type": "markdown",
   "id": "565d220a-6f1c-425b-a09a-aa01de7c6431",
   "metadata": {},
   "source": [
    "## 구현 하기\n",
    "\n",
    "`my_networks.py`를 구현하고 아래 코드 셀을 실행시킵니다.  \n",
    "test acc가 학습 과정에서 **단 한번이라도 0.830을 넘으면 100점**으로 인정합니다.  \n",
    "주의: 파라미터 수가 1,000,000개를 넘으면 (check_param_budget을 fail하면) 0점입니다.\n",
    "\n",
    "참고: 데이터를 train/val/test로 나눠야하지만 과제 구현의 편의성을 위해 train/test으로만 나누었습니다.  \n",
    "본 과제에서는 test acc를 보고 모델 튜닝을 하면 되겠습니다."
   ]
  },
  {
   "cell_type": "code",
   "execution_count": null,
   "id": "9c96bf8d-9ccf-4682-bd51-635c61ad097b",
   "metadata": {},
   "outputs": [],
   "source": [
    "solver = my_networks.Solver(lr=0.005) # 필요한 argument를 추가하면 됩니다\n",
    "check_param_budget(solver.model)\n",
    "\n",
    "solver.train()"
   ]
  },
  {
   "cell_type": "code",
   "execution_count": null,
   "id": "6baf0fe5-9279-46f8-922e-378aefd933d2",
   "metadata": {},
   "outputs": [],
   "source": [
    "plt.figure()\n",
    "plt.title('Training loss')\n",
    "plt.xlabel('Steps')\n",
    "plt.plot(solver.history[\"loss\"])\n",
    "\n",
    "plt.figure()\n",
    "plt.title('Test accuracy')\n",
    "plt.xlabel('Epochs')\n",
    "plt.axhline(y=0.83, color=\"red\", linestyle=\"--\", linewidth=1)\n",
    "plt.plot(solver.history[\"test_acc\"])"
   ]
  },
  {
   "cell_type": "code",
   "execution_count": null,
   "id": "3651adb6-7d93-40eb-8734-3b842bd561ad",
   "metadata": {},
   "outputs": [],
   "source": []
  }
 ],
 "metadata": {
  "kernelspec": {
   "display_name": "Python 3 (ipykernel)",
   "language": "python",
   "name": "python3"
  },
  "language_info": {
   "codemirror_mode": {
    "name": "ipython",
    "version": 3
   },
   "file_extension": ".py",
   "mimetype": "text/x-python",
   "name": "python",
   "nbconvert_exporter": "python",
   "pygments_lexer": "ipython3",
   "version": "3.10.12"
  }
 },
 "nbformat": 4,
 "nbformat_minor": 5
}
